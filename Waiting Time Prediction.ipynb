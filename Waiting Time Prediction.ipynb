{
 "cells": [
  {
   "cell_type": "markdown",
   "metadata": {},
   "source": [
    "# Data Engineering"
   ]
  },
  {
   "cell_type": "markdown",
   "metadata": {},
   "source": [
    "## Merge the Dataset"
   ]
  },
  {
   "cell_type": "markdown",
   "metadata": {},
   "source": [
    "#### Hourly Base: Weather + waiting time+ night show \n"
   ]
  },
  {
   "cell_type": "markdown",
   "metadata": {},
   "source": [
    "#### Daily Base: Attendance+ entity schedule + Link attraction"
   ]
  },
  {
   "cell_type": "markdown",
   "metadata": {},
   "source": [
    "#### Public Holidays/ Weekends & Weekdays / Vacations for Students"
   ]
  },
  {
   "cell_type": "code",
   "execution_count": 12,
   "metadata": {},
   "outputs": [
    {
     "name": "stdout",
     "output_type": "stream",
     "text": [
      "2023-01-01: New year\n",
      "2023-04-06: Holy Thursday\n",
      "2023-04-07: Good Friday\n",
      "2023-04-09: Easter Sunday\n",
      "2023-04-10: Easter Monday\n",
      "2023-05-05: Store Bededag\n",
      "2023-05-18: Ascension Thursday\n",
      "2023-05-28: Pentecost Sunday\n",
      "2023-05-29: Pentecost Monday\n",
      "2023-12-24: Christmas Eve\n",
      "2023-12-25: Christmas Day\n",
      "2023-12-26: Second Day of Christmas\n"
     ]
    }
   ],
   "source": [
    "from workalendar.europe import Denmark  # Change this line to import Denmark\n",
    "\n",
    "cal_denmark = Denmark()  # Change the instance to Denmark\n",
    "year = 2023  \n",
    "holidays = cal_denmark.holidays(year)\n",
    "for date, name in holidays:\n",
    "    print(f\"{date}: {name}\")"
   ]
  },
  {
   "cell_type": "code",
   "execution_count": 11,
   "metadata": {},
   "outputs": [
    {
     "name": "stdout",
     "output_type": "stream",
     "text": [
      "2023-01-01: New year\n",
      "2023-01-06: Epiphany\n",
      "2023-04-07: Good Friday\n",
      "2023-05-01: Día del trabajador\n",
      "2023-08-15: Assumption of Mary to Heaven\n",
      "2023-10-12: Fiesta nacional de España\n",
      "2023-11-01: All Saints Day\n",
      "2023-12-06: Día de la Constitución Española\n",
      "2023-12-08: Immaculate Conception\n",
      "2023-12-25: Christmas Day\n"
     ]
    }
   ],
   "source": [
    "from workalendar.europe import Spain  # Change this line to import Denmark\n",
    "\n",
    "cal_spain = Spain()  # Change the instance to Denmark\n",
    "year = 2023  \n",
    "holidays = cal_spain.holidays(year)\n",
    "for date, name in holidays:\n",
    "    print(f\"{date}: {name}\")"
   ]
  }
 ],
 "metadata": {
  "kernelspec": {
   "display_name": "base",
   "language": "python",
   "name": "python3"
  },
  "language_info": {
   "codemirror_mode": {
    "name": "ipython",
    "version": 3
   },
   "file_extension": ".py",
   "mimetype": "text/x-python",
   "name": "python",
   "nbconvert_exporter": "python",
   "pygments_lexer": "ipython3",
   "version": "3.11.4"
  }
 },
 "nbformat": 4,
 "nbformat_minor": 2
}
