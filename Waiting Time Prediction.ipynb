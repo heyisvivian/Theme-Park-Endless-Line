{
 "cells": [
  {
   "cell_type": "markdown",
   "metadata": {},
   "source": [
    "# Data Engineering"
   ]
  },
  {
   "cell_type": "markdown",
   "metadata": {},
   "source": [
    "- Read the Data"
   ]
  },
  {
   "cell_type": "code",
   "execution_count": 15,
   "metadata": {},
   "outputs": [],
   "source": [
    "import pandas as pd\n",
    "import holidays\n",
    "from datetime import date"
   ]
  },
  {
   "cell_type": "code",
   "execution_count": 16,
   "metadata": {},
   "outputs": [],
   "source": [
    "attendanceDF=pd.read_csv('attendance.csv')\n",
    "entityDF=pd.read_csv('entity_schedule.csv')\n",
    "attractionDF = pd.read_csv('link_attraction_park.csv', delimiter=';')\n",
    "weatherDF=pd.read_csv('weather_data.csv')\n",
    "paradeDF=pd.read_excel('parade_night_show.xlsx')\n",
    "glossaryDF=pd.read_excel('glossary.xlsx')"
   ]
  },
  {
   "cell_type": "code",
   "execution_count": 17,
   "metadata": {},
   "outputs": [],
   "source": [
    "paradeDF.drop(['Unnamed: 0'], inplace=True, axis=1)"
   ]
  },
  {
   "cell_type": "markdown",
   "metadata": {},
   "source": [
    "## Merge the Dataset"
   ]
  },
  {
   "cell_type": "markdown",
   "metadata": {},
   "source": [
    "#### Hourly Base: Weather + waiting time+ night show \n"
   ]
  },
  {
   "cell_type": "markdown",
   "metadata": {},
   "source": [
    "#### Daily Base: Attendance+ entity schedule + Link attraction"
   ]
  },
  {
   "cell_type": "markdown",
   "metadata": {},
   "source": [
    "Link Attraction "
   ]
  },
  {
   "cell_type": "code",
   "execution_count": 36,
   "metadata": {},
   "outputs": [
    {
     "name": "stdout",
     "output_type": "stream",
     "text": [
      "PortAventura World    26\n",
      "Name: PARK, dtype: int64\n"
     ]
    }
   ],
   "source": [
    "#select the PortAventura World park\n",
    "port_attraction_DF=attractionDF[attractionDF['PARK']=='PortAventura World']\n",
    "#count the unique attraction of the park \n",
    "print(port_attraction_DF['PARK'].value_counts())"
   ]
  },
  {
   "cell_type": "markdown",
   "metadata": {},
   "source": [
    "- the port_attraction_DF will be use to select entity that belongs to PortAventura"
   ]
  },
  {
   "cell_type": "markdown",
   "metadata": {},
   "source": [
    "Entity "
   ]
  },
  {
   "cell_type": "code",
   "execution_count": 34,
   "metadata": {},
   "outputs": [],
   "source": [
    "#rename the ENTITY_DESCRIPTION_SHORT to attraction \n",
    "entityDF.rename(columns={'ENTITY_DESCRIPTION_SHORT':'Attraction'}, inplace=True)\n",
    "entityDF['WORK_DATE']=pd.to_datetime(entityDF['WORK_DATE'], format='%Y-%m-%d')\n",
    "\n",
    "#select the Attraction colums that == PortAventura World\n",
    "entity_port=entityDF[entityDF['Attraction']=='PortAventura World']\n",
    "\n",
    "#select the Attraction colums that == to port_attraction_DF, othwerwise drop the row\n",
    "entity_DF=entityDF[entityDF['Attraction'].isin(port_attraction_DF['ATTRACTION'])]\n",
    "\n",
    "#merge the entity_port and entity_DF on attraction\n",
    "entity_merge_DF=pd.concat([entity_port, entity_DF])"
   ]
  },
  {
   "cell_type": "markdown",
   "metadata": {},
   "source": [
    "- So in the end this entity_merge_DF only contains PortAventura World theme park data"
   ]
  },
  {
   "cell_type": "code",
   "execution_count": 38,
   "metadata": {},
   "outputs": [
    {
     "data": {
      "text/html": [
       "<div>\n",
       "<style scoped>\n",
       "    .dataframe tbody tr th:only-of-type {\n",
       "        vertical-align: middle;\n",
       "    }\n",
       "\n",
       "    .dataframe tbody tr th {\n",
       "        vertical-align: top;\n",
       "    }\n",
       "\n",
       "    .dataframe thead th {\n",
       "        text-align: right;\n",
       "    }\n",
       "</style>\n",
       "<table border=\"1\" class=\"dataframe\">\n",
       "  <thead>\n",
       "    <tr style=\"text-align: right;\">\n",
       "      <th></th>\n",
       "      <th>REF_CLOSING_DESCRIPTION</th>\n",
       "      <th>Attraction</th>\n",
       "      <th>ENTITY_TYPE</th>\n",
       "      <th>DEB_TIME</th>\n",
       "      <th>FIN_TIME</th>\n",
       "      <th>UPDATE_TIME</th>\n",
       "      <th>WORK_DATE</th>\n",
       "    </tr>\n",
       "  </thead>\n",
       "  <tbody>\n",
       "    <tr>\n",
       "      <th>21180</th>\n",
       "      <td>NaN</td>\n",
       "      <td>Spiral Slide</td>\n",
       "      <td>ATTR</td>\n",
       "      <td>2018-01-01 08:30:00.000</td>\n",
       "      <td>2018-01-01 18:29:00.000</td>\n",
       "      <td>2018-01-02 07:53:26.000</td>\n",
       "      <td>2018-01-01</td>\n",
       "    </tr>\n",
       "    <tr>\n",
       "      <th>6310</th>\n",
       "      <td>NaN</td>\n",
       "      <td>Kiddie Coaster</td>\n",
       "      <td>ATTR</td>\n",
       "      <td>2018-01-01 10:00:00.000</td>\n",
       "      <td>2018-01-01 17:07:00.000</td>\n",
       "      <td>2018-01-02 07:51:31.000</td>\n",
       "      <td>2018-01-01</td>\n",
       "    </tr>\n",
       "    <tr>\n",
       "      <th>34217</th>\n",
       "      <td>NaN</td>\n",
       "      <td>Rapids Ride</td>\n",
       "      <td>ATTR</td>\n",
       "      <td>2018-01-01 09:29:00.000</td>\n",
       "      <td>2018-01-01 17:08:00.000</td>\n",
       "      <td>2018-01-02 07:51:31.000</td>\n",
       "      <td>2018-01-01</td>\n",
       "    </tr>\n",
       "    <tr>\n",
       "      <th>9678</th>\n",
       "      <td>NaN</td>\n",
       "      <td>PortAventura World</td>\n",
       "      <td>PARK</td>\n",
       "      <td>2018-01-01 10:00:00.000</td>\n",
       "      <td>2018-01-01 22:00:00.000</td>\n",
       "      <td>2018-01-02 07:57:06.000</td>\n",
       "      <td>2018-01-01</td>\n",
       "    </tr>\n",
       "    <tr>\n",
       "      <th>8237</th>\n",
       "      <td>NaN</td>\n",
       "      <td>Roller Coaster</td>\n",
       "      <td>ATTR</td>\n",
       "      <td>2018-01-01 10:00:00.000</td>\n",
       "      <td>2018-01-01 17:44:00.000</td>\n",
       "      <td>2018-01-02 07:46:01.000</td>\n",
       "      <td>2018-01-01</td>\n",
       "    </tr>\n",
       "    <tr>\n",
       "      <th>...</th>\n",
       "      <td>...</td>\n",
       "      <td>...</td>\n",
       "      <td>...</td>\n",
       "      <td>...</td>\n",
       "      <td>...</td>\n",
       "      <td>...</td>\n",
       "      <td>...</td>\n",
       "    </tr>\n",
       "    <tr>\n",
       "      <th>38075</th>\n",
       "      <td>NaN</td>\n",
       "      <td>Giant Wheel</td>\n",
       "      <td>ATTR</td>\n",
       "      <td>2022-08-22 08:30:00.000</td>\n",
       "      <td>2022-08-22 23:25:00.000</td>\n",
       "      <td>2022-08-23 09:02:41.000</td>\n",
       "      <td>2022-08-22</td>\n",
       "    </tr>\n",
       "    <tr>\n",
       "      <th>38073</th>\n",
       "      <td>NaN</td>\n",
       "      <td>Bumper Cars</td>\n",
       "      <td>ATTR</td>\n",
       "      <td>2022-08-22 09:00:00.000</td>\n",
       "      <td>2022-08-22 22:15:00.000</td>\n",
       "      <td>2022-08-23 09:02:40.000</td>\n",
       "      <td>2022-08-22</td>\n",
       "    </tr>\n",
       "    <tr>\n",
       "      <th>38072</th>\n",
       "      <td>NaN</td>\n",
       "      <td>Superman Ride</td>\n",
       "      <td>ATTR</td>\n",
       "      <td>2022-08-22 09:30:00.000</td>\n",
       "      <td>2022-08-22 19:50:00.000</td>\n",
       "      <td>2022-08-23 09:02:41.000</td>\n",
       "      <td>2022-08-22</td>\n",
       "    </tr>\n",
       "    <tr>\n",
       "      <th>38070</th>\n",
       "      <td>NaN</td>\n",
       "      <td>PortAventura World</td>\n",
       "      <td>PARK</td>\n",
       "      <td>2022-08-22 09:30:00.000</td>\n",
       "      <td>2022-08-22 23:00:00.000</td>\n",
       "      <td>2022-08-23 09:02:48.000</td>\n",
       "      <td>2022-08-22</td>\n",
       "    </tr>\n",
       "    <tr>\n",
       "      <th>38306</th>\n",
       "      <td>NaN</td>\n",
       "      <td>Go-Karts</td>\n",
       "      <td>ATTR</td>\n",
       "      <td>2022-08-22 08:30:00.000</td>\n",
       "      <td>2022-08-22 23:05:00.000</td>\n",
       "      <td>2022-08-23 09:02:36.000</td>\n",
       "      <td>2022-08-22</td>\n",
       "    </tr>\n",
       "  </tbody>\n",
       "</table>\n",
       "<p>25215 rows × 7 columns</p>\n",
       "</div>"
      ],
      "text/plain": [
       "      REF_CLOSING_DESCRIPTION          Attraction ENTITY_TYPE  \\\n",
       "21180                     NaN        Spiral Slide        ATTR   \n",
       "6310                      NaN      Kiddie Coaster        ATTR   \n",
       "34217                     NaN         Rapids Ride        ATTR   \n",
       "9678                      NaN  PortAventura World        PARK   \n",
       "8237                      NaN      Roller Coaster        ATTR   \n",
       "...                       ...                 ...         ...   \n",
       "38075                     NaN         Giant Wheel        ATTR   \n",
       "38073                     NaN         Bumper Cars        ATTR   \n",
       "38072                     NaN       Superman Ride        ATTR   \n",
       "38070                     NaN  PortAventura World        PARK   \n",
       "38306                     NaN            Go-Karts        ATTR   \n",
       "\n",
       "                      DEB_TIME                 FIN_TIME  \\\n",
       "21180  2018-01-01 08:30:00.000  2018-01-01 18:29:00.000   \n",
       "6310   2018-01-01 10:00:00.000  2018-01-01 17:07:00.000   \n",
       "34217  2018-01-01 09:29:00.000  2018-01-01 17:08:00.000   \n",
       "9678   2018-01-01 10:00:00.000  2018-01-01 22:00:00.000   \n",
       "8237   2018-01-01 10:00:00.000  2018-01-01 17:44:00.000   \n",
       "...                        ...                      ...   \n",
       "38075  2022-08-22 08:30:00.000  2022-08-22 23:25:00.000   \n",
       "38073  2022-08-22 09:00:00.000  2022-08-22 22:15:00.000   \n",
       "38072  2022-08-22 09:30:00.000  2022-08-22 19:50:00.000   \n",
       "38070  2022-08-22 09:30:00.000  2022-08-22 23:00:00.000   \n",
       "38306  2022-08-22 08:30:00.000  2022-08-22 23:05:00.000   \n",
       "\n",
       "                   UPDATE_TIME  WORK_DATE  \n",
       "21180  2018-01-02 07:53:26.000 2018-01-01  \n",
       "6310   2018-01-02 07:51:31.000 2018-01-01  \n",
       "34217  2018-01-02 07:51:31.000 2018-01-01  \n",
       "9678   2018-01-02 07:57:06.000 2018-01-01  \n",
       "8237   2018-01-02 07:46:01.000 2018-01-01  \n",
       "...                        ...        ...  \n",
       "38075  2022-08-23 09:02:41.000 2022-08-22  \n",
       "38073  2022-08-23 09:02:40.000 2022-08-22  \n",
       "38072  2022-08-23 09:02:41.000 2022-08-22  \n",
       "38070  2022-08-23 09:02:48.000 2022-08-22  \n",
       "38306  2022-08-23 09:02:36.000 2022-08-22  \n",
       "\n",
       "[25215 rows x 7 columns]"
      ]
     },
     "execution_count": 38,
     "metadata": {},
     "output_type": "execute_result"
    }
   ],
   "source": [
    "#sort the entity_merge_DF by date \n",
    "entity_merge_DF=entity_merge_DF.sort_values(by='WORK_DATE')\n",
    "entity_merge_DF"
   ]
  },
  {
   "cell_type": "markdown",
   "metadata": {},
   "source": [
    "Attendance"
   ]
  },
  {
   "cell_type": "code",
   "execution_count": 37,
   "metadata": {},
   "outputs": [
    {
     "name": "stderr",
     "output_type": "stream",
     "text": [
      "/var/folders/dp/4_t_qbl93db5chwk2q5m91540000gn/T/ipykernel_20799/4060445122.py:3: SettingWithCopyWarning: \n",
      "A value is trying to be set on a copy of a slice from a DataFrame.\n",
      "Try using .loc[row_indexer,col_indexer] = value instead\n",
      "\n",
      "See the caveats in the documentation: https://pandas.pydata.org/pandas-docs/stable/user_guide/indexing.html#returning-a-view-versus-a-copy\n",
      "  PortAventuraAttendanceDF['USAGE_DATE']=pd.to_datetime(PortAventuraAttendanceDF['USAGE_DATE'], format='%Y-%m-%d')\n"
     ]
    }
   ],
   "source": [
    "#Only choose the PortAventura World\n",
    "PortAventuraAttendanceDF=attendanceDF[attendanceDF['FACILITY_NAME']=='PortAventura World']\n",
    "PortAventuraAttendanceDF['USAGE_DATE']=pd.to_datetime(PortAventuraAttendanceDF['USAGE_DATE'], format='%Y-%m-%d')\n",
    "\n",
    "# # adding the date of the week to the Port dataset\n",
    "# PortAventuraAttendanceDF['DayOfWeek']=PortAventuraAttendanceDF['USAGE_DATE'].dt.dayofweek\n",
    "\n",
    "# # Weekdays DataFrame (Monday=0, ..., Friday=4)\n",
    "# WeekdayPortAttendanceDF= PortAventuraAttendanceDF[PortAventuraAttendanceDF['DayOfWeek'].isin(range(5))]\n",
    "\n",
    "# # Weekends DataFrame (Saturday=5, Sunday=6)\n",
    "# WEndPortAttendanceDF= PortAventuraAttendanceDF[PortAventuraAttendanceDF['DayOfWeek'].isin([5,6])]"
   ]
  },
  {
   "cell_type": "markdown",
   "metadata": {},
   "source": [
    "#### Encoding Public Holidays=1; Weekend=1, otherwise =0 for Entity dataset "
   ]
  },
  {
   "cell_type": "code",
   "execution_count": 35,
   "metadata": {},
   "outputs": [],
   "source": [
    "# Get the Spanish Holidays\n",
    "holidays18 = holidays.Spain(years=[2018])\n",
    "holidays19 = holidays.Spain(years=[2019])\n",
    "holidays20 = holidays.Spain(years=[2020])\n",
    "holidays21 = holidays.Spain(years=[2021])\n",
    "holidays22 = holidays.Spain(years=[2022])\n",
    "holidays23 = holidays.Spain(years=[2023])\n",
    "\n",
    "# Convert to a list\n",
    "holiday_dates = list(holidays18) + \\\n",
    "                list(holidays19) + \\\n",
    "                list(holidays20) + \\\n",
    "                list(holidays21) + \\\n",
    "                list(holidays22) + \\\n",
    "                list(holidays23)\n"
   ]
  },
  {
   "cell_type": "code",
   "execution_count": 39,
   "metadata": {},
   "outputs": [
    {
     "name": "stderr",
     "output_type": "stream",
     "text": [
      "/var/folders/dp/4_t_qbl93db5chwk2q5m91540000gn/T/ipykernel_20799/2629378845.py:2: SettingWithCopyWarning: \n",
      "A value is trying to be set on a copy of a slice from a DataFrame.\n",
      "Try using .loc[row_indexer,col_indexer] = value instead\n",
      "\n",
      "See the caveats in the documentation: https://pandas.pydata.org/pandas-docs/stable/user_guide/indexing.html#returning-a-view-versus-a-copy\n",
      "  PortAventuraAttendanceDF['Holidays']=PortAventuraAttendanceDF['USAGE_DATE'].isin(holiday_dates).astype(int)\n",
      "/var/folders/dp/4_t_qbl93db5chwk2q5m91540000gn/T/ipykernel_20799/2629378845.py:4: SettingWithCopyWarning: \n",
      "A value is trying to be set on a copy of a slice from a DataFrame.\n",
      "Try using .loc[row_indexer,col_indexer] = value instead\n",
      "\n",
      "See the caveats in the documentation: https://pandas.pydata.org/pandas-docs/stable/user_guide/indexing.html#returning-a-view-versus-a-copy\n",
      "  PortAventuraAttendanceDF['Weekends']=PortAventuraAttendanceDF['USAGE_DATE'].dt.dayofweek.isin([5,6]).astype(int)\n"
     ]
    },
    {
     "data": {
      "text/html": [
       "<div>\n",
       "<style scoped>\n",
       "    .dataframe tbody tr th:only-of-type {\n",
       "        vertical-align: middle;\n",
       "    }\n",
       "\n",
       "    .dataframe tbody tr th {\n",
       "        vertical-align: top;\n",
       "    }\n",
       "\n",
       "    .dataframe thead th {\n",
       "        text-align: right;\n",
       "    }\n",
       "</style>\n",
       "<table border=\"1\" class=\"dataframe\">\n",
       "  <thead>\n",
       "    <tr style=\"text-align: right;\">\n",
       "      <th></th>\n",
       "      <th>USAGE_DATE</th>\n",
       "      <th>FACILITY_NAME</th>\n",
       "      <th>attendance</th>\n",
       "      <th>Holidays</th>\n",
       "      <th>Weekends</th>\n",
       "    </tr>\n",
       "  </thead>\n",
       "  <tbody>\n",
       "    <tr>\n",
       "      <th>0</th>\n",
       "      <td>2018-06-01</td>\n",
       "      <td>PortAventura World</td>\n",
       "      <td>46804</td>\n",
       "      <td>0</td>\n",
       "      <td>0</td>\n",
       "    </tr>\n",
       "    <tr>\n",
       "      <th>2</th>\n",
       "      <td>2018-06-02</td>\n",
       "      <td>PortAventura World</td>\n",
       "      <td>57940</td>\n",
       "      <td>0</td>\n",
       "      <td>1</td>\n",
       "    </tr>\n",
       "    <tr>\n",
       "      <th>4</th>\n",
       "      <td>2018-06-03</td>\n",
       "      <td>PortAventura World</td>\n",
       "      <td>44365</td>\n",
       "      <td>0</td>\n",
       "      <td>1</td>\n",
       "    </tr>\n",
       "    <tr>\n",
       "      <th>6</th>\n",
       "      <td>2018-06-04</td>\n",
       "      <td>PortAventura World</td>\n",
       "      <td>37617</td>\n",
       "      <td>0</td>\n",
       "      <td>0</td>\n",
       "    </tr>\n",
       "    <tr>\n",
       "      <th>8</th>\n",
       "      <td>2018-06-05</td>\n",
       "      <td>PortAventura World</td>\n",
       "      <td>32438</td>\n",
       "      <td>0</td>\n",
       "      <td>0</td>\n",
       "    </tr>\n",
       "    <tr>\n",
       "      <th>...</th>\n",
       "      <td>...</td>\n",
       "      <td>...</td>\n",
       "      <td>...</td>\n",
       "      <td>...</td>\n",
       "      <td>...</td>\n",
       "    </tr>\n",
       "    <tr>\n",
       "      <th>2357</th>\n",
       "      <td>2022-07-22</td>\n",
       "      <td>PortAventura World</td>\n",
       "      <td>49586</td>\n",
       "      <td>0</td>\n",
       "      <td>0</td>\n",
       "    </tr>\n",
       "    <tr>\n",
       "      <th>2359</th>\n",
       "      <td>2022-07-23</td>\n",
       "      <td>PortAventura World</td>\n",
       "      <td>51748</td>\n",
       "      <td>0</td>\n",
       "      <td>1</td>\n",
       "    </tr>\n",
       "    <tr>\n",
       "      <th>2361</th>\n",
       "      <td>2022-07-24</td>\n",
       "      <td>PortAventura World</td>\n",
       "      <td>45261</td>\n",
       "      <td>0</td>\n",
       "      <td>1</td>\n",
       "    </tr>\n",
       "    <tr>\n",
       "      <th>2363</th>\n",
       "      <td>2022-07-25</td>\n",
       "      <td>PortAventura World</td>\n",
       "      <td>53764</td>\n",
       "      <td>0</td>\n",
       "      <td>0</td>\n",
       "    </tr>\n",
       "    <tr>\n",
       "      <th>2365</th>\n",
       "      <td>2022-07-26</td>\n",
       "      <td>PortAventura World</td>\n",
       "      <td>26391</td>\n",
       "      <td>0</td>\n",
       "      <td>0</td>\n",
       "    </tr>\n",
       "  </tbody>\n",
       "</table>\n",
       "<p>1182 rows × 5 columns</p>\n",
       "</div>"
      ],
      "text/plain": [
       "     USAGE_DATE       FACILITY_NAME  attendance  Holidays  Weekends\n",
       "0    2018-06-01  PortAventura World       46804         0         0\n",
       "2    2018-06-02  PortAventura World       57940         0         1\n",
       "4    2018-06-03  PortAventura World       44365         0         1\n",
       "6    2018-06-04  PortAventura World       37617         0         0\n",
       "8    2018-06-05  PortAventura World       32438         0         0\n",
       "...         ...                 ...         ...       ...       ...\n",
       "2357 2022-07-22  PortAventura World       49586         0         0\n",
       "2359 2022-07-23  PortAventura World       51748         0         1\n",
       "2361 2022-07-24  PortAventura World       45261         0         1\n",
       "2363 2022-07-25  PortAventura World       53764         0         0\n",
       "2365 2022-07-26  PortAventura World       26391         0         0\n",
       "\n",
       "[1182 rows x 5 columns]"
      ]
     },
     "execution_count": 39,
     "metadata": {},
     "output_type": "execute_result"
    }
   ],
   "source": [
    "# Add an Holidays column for attendance , if is holiday ==1, otherwise ==0\n",
    "PortAventuraAttendanceDF['Holidays']=PortAventuraAttendanceDF['USAGE_DATE'].isin(holiday_dates).astype(int)\n",
    "# Add an Weekends column for attendance , if is weekend ==1, otherwise ==0\n",
    "PortAventuraAttendanceDF['Weekends']=PortAventuraAttendanceDF['USAGE_DATE'].dt.dayofweek.isin([5,6]).astype(int)\n",
    "\n",
    "PortAventuraAttendanceDF"
   ]
  },
  {
   "cell_type": "markdown",
   "metadata": {},
   "source": [
    "# Data Visulization"
   ]
  }
 ],
 "metadata": {
  "kernelspec": {
   "display_name": "base",
   "language": "python",
   "name": "python3"
  },
  "language_info": {
   "codemirror_mode": {
    "name": "ipython",
    "version": 3
   },
   "file_extension": ".py",
   "mimetype": "text/x-python",
   "name": "python",
   "nbconvert_exporter": "python",
   "pygments_lexer": "ipython3",
   "version": "3.11.4"
  }
 },
 "nbformat": 4,
 "nbformat_minor": 2
}
