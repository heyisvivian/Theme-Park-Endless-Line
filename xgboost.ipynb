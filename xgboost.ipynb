{
  "cells": [
    {
      "cell_type": "markdown",
      "metadata": {
        "id": "-eGHaj8dW8Mt"
      },
      "source": [
        "# Waiting Time Prediction"
      ]
    },
    {
      "cell_type": "code",
      "execution_count": 1,
      "metadata": {
        "id": "Yt0qVzQLW8Mv"
      },
      "outputs": [],
      "source": [
        "import pandas as pd\n",
        "import numpy as np\n",
        "from sklearn.preprocessing import LabelEncoder\n",
        "from xgboost import XGBRegressor\n",
        "from sklearn.metrics import mean_squared_error, mean_absolute_error, mean_absolute_percentage_error\n",
        "from datetime import timedelta\n",
        "from sklearn.model_selection import GridSearchCV"
      ]
    },
    {
      "cell_type": "markdown",
      "metadata": {
        "id": "X_iMq4WvW8Mw"
      },
      "source": [
        "## Data Extraction"
      ]
    },
    {
      "cell_type": "code",
      "source": [
        "from google.colab import drive\n",
        "drive.mount('/content/drive')"
      ],
      "metadata": {
        "colab": {
          "base_uri": "https://localhost:8080/"
        },
        "id": "i_88s1OqXq_n",
        "outputId": "6a8e2e0d-4878-4e00-99b3-1d4004658e61"
      },
      "execution_count": 2,
      "outputs": [
        {
          "output_type": "stream",
          "name": "stdout",
          "text": [
            "Drive already mounted at /content/drive; to attempt to forcibly remount, call drive.mount(\"/content/drive\", force_remount=True).\n"
          ]
        }
      ]
    },
    {
      "cell_type": "code",
      "execution_count": 3,
      "metadata": {
        "colab": {
          "base_uri": "https://localhost:8080/"
        },
        "id": "mUkzE0uyW8Mw",
        "outputId": "4d28e4fa-a020-4e23-a3f4-72109cbb3dcb"
      },
      "outputs": [
        {
          "output_type": "stream",
          "name": "stdout",
          "text": [
            "    WORK_DATE                 DEB_TIME  DEB_TIME_HOUR  \\\n",
            "0  2018-01-01  2018-01-01 21:00:00.000             21   \n",
            "1  2018-01-01  2018-01-01 19:30:00.000             19   \n",
            "2  2018-01-01  2018-01-01 22:30:00.000             22   \n",
            "3  2018-01-01  2018-01-01 12:45:00.000             12   \n",
            "4  2018-01-01  2018-01-01 17:00:00.000             17   \n",
            "\n",
            "                  FIN_TIME ENTITY_DESCRIPTION_SHORT  WAIT_TIME_MAX  NB_UNITS  \\\n",
            "0  2018-01-01 21:15:00.000           Roller Coaster              0       2.0   \n",
            "1  2018-01-01 19:45:00.000              Bumper Cars              5      18.0   \n",
            "2  2018-01-01 22:45:00.000              Rapids Ride              0       1.0   \n",
            "3  2018-01-01 13:00:00.000              Crazy Dance              5       1.0   \n",
            "4  2018-01-01 17:15:00.000                   Skyway              5      15.0   \n",
            "\n",
            "   GUEST_CARRIED  CAPACITY  ADJUST_CAPACITY  ...  wind_gust  rain_1h  rain_3h  \\\n",
            "0            0.0     0.000             0.00  ...        NaN      NaN      NaN   \n",
            "1          148.0   254.749           254.75  ...        NaN      NaN      NaN   \n",
            "2            0.0     0.000             0.00  ...        NaN      NaN      NaN   \n",
            "3           46.0   250.001           250.00  ...        NaN     0.92      NaN   \n",
            "4           92.0   211.500           198.25  ...        NaN     0.25      NaN   \n",
            "\n",
            "   snow_1h  snow_3h clouds_all  weather_id weather_main  weather_description  \\\n",
            "0      NaN      NaN       39.0       802.0       Clouds     scattered clouds   \n",
            "1      NaN      NaN       23.0       801.0       Clouds           few clouds   \n",
            "2      NaN      NaN       51.0       803.0       Clouds        broken clouds   \n",
            "3      NaN      NaN       99.0       500.0         Rain           light rain   \n",
            "4      NaN      NaN      100.0       500.0         Rain           light rain   \n",
            "\n",
            "   weather_icon  \n",
            "0           03n  \n",
            "1           02n  \n",
            "2           04n  \n",
            "3           10d  \n",
            "4           10n  \n",
            "\n",
            "[5 rows x 42 columns]\n"
          ]
        }
      ],
      "source": [
        "# Read the Parquet file\n",
        "df = pd.read_parquet(\"/content/drive/MyDrive/DataInMinute.parquet\", engine='pyarrow')  # You can also use engine='fastparquet'\n",
        "df_nocov = pd.read_parquet(\"/content/drive/MyDrive/mins_data.parquet\", engine='pyarrow')  # You can also use engine='fastparquet'\n",
        "\n",
        "# Now df is a Pandas DataFrame containing the data from your Parquet file.\n",
        "print(df.head())"
      ]
    },
    {
      "cell_type": "code",
      "execution_count": null,
      "metadata": {
        "id": "Y11ZU2lxW8Mx",
        "outputId": "f15b6720-fa41-4d7a-b7ed-af6d4d7d54db"
      },
      "outputs": [
        {
          "data": {
            "text/html": [
              "<div>\n",
              "<style scoped>\n",
              "    .dataframe tbody tr th:only-of-type {\n",
              "        vertical-align: middle;\n",
              "    }\n",
              "\n",
              "    .dataframe tbody tr th {\n",
              "        vertical-align: top;\n",
              "    }\n",
              "\n",
              "    .dataframe thead th {\n",
              "        text-align: right;\n",
              "    }\n",
              "</style>\n",
              "<table border=\"1\" class=\"dataframe\">\n",
              "  <thead>\n",
              "    <tr style=\"text-align: right;\">\n",
              "      <th></th>\n",
              "      <th>WORK_DATE</th>\n",
              "      <th>DEB_TIME</th>\n",
              "      <th>DEB_TIME_HOUR</th>\n",
              "      <th>FIN_TIME</th>\n",
              "      <th>ENTITY_DESCRIPTION_SHORT</th>\n",
              "      <th>WAIT_TIME_MAX</th>\n",
              "      <th>NB_UNITS</th>\n",
              "      <th>GUEST_CARRIED</th>\n",
              "      <th>CAPACITY</th>\n",
              "      <th>ADJUST_CAPACITY</th>\n",
              "      <th>...</th>\n",
              "      <th>wind_gust</th>\n",
              "      <th>rain_1h</th>\n",
              "      <th>rain_3h</th>\n",
              "      <th>snow_1h</th>\n",
              "      <th>snow_3h</th>\n",
              "      <th>clouds_all</th>\n",
              "      <th>weather_id</th>\n",
              "      <th>weather_main</th>\n",
              "      <th>weather_description</th>\n",
              "      <th>weather_icon</th>\n",
              "    </tr>\n",
              "  </thead>\n",
              "  <tbody>\n",
              "    <tr>\n",
              "      <th>0</th>\n",
              "      <td>2018-01-01</td>\n",
              "      <td>2018-01-01 21:00:00.000</td>\n",
              "      <td>21</td>\n",
              "      <td>2018-01-01 21:15:00.000</td>\n",
              "      <td>Roller Coaster</td>\n",
              "      <td>0</td>\n",
              "      <td>2.0</td>\n",
              "      <td>0.0</td>\n",
              "      <td>0.000</td>\n",
              "      <td>0.00</td>\n",
              "      <td>...</td>\n",
              "      <td>NaN</td>\n",
              "      <td>NaN</td>\n",
              "      <td>NaN</td>\n",
              "      <td>NaN</td>\n",
              "      <td>NaN</td>\n",
              "      <td>39.0</td>\n",
              "      <td>802.0</td>\n",
              "      <td>Clouds</td>\n",
              "      <td>scattered clouds</td>\n",
              "      <td>03n</td>\n",
              "    </tr>\n",
              "    <tr>\n",
              "      <th>1</th>\n",
              "      <td>2018-01-01</td>\n",
              "      <td>2018-01-01 19:30:00.000</td>\n",
              "      <td>19</td>\n",
              "      <td>2018-01-01 19:45:00.000</td>\n",
              "      <td>Bumper Cars</td>\n",
              "      <td>5</td>\n",
              "      <td>18.0</td>\n",
              "      <td>148.0</td>\n",
              "      <td>254.749</td>\n",
              "      <td>254.75</td>\n",
              "      <td>...</td>\n",
              "      <td>NaN</td>\n",
              "      <td>NaN</td>\n",
              "      <td>NaN</td>\n",
              "      <td>NaN</td>\n",
              "      <td>NaN</td>\n",
              "      <td>23.0</td>\n",
              "      <td>801.0</td>\n",
              "      <td>Clouds</td>\n",
              "      <td>few clouds</td>\n",
              "      <td>02n</td>\n",
              "    </tr>\n",
              "    <tr>\n",
              "      <th>2</th>\n",
              "      <td>2018-01-01</td>\n",
              "      <td>2018-01-01 22:30:00.000</td>\n",
              "      <td>22</td>\n",
              "      <td>2018-01-01 22:45:00.000</td>\n",
              "      <td>Rapids Ride</td>\n",
              "      <td>0</td>\n",
              "      <td>1.0</td>\n",
              "      <td>0.0</td>\n",
              "      <td>0.000</td>\n",
              "      <td>0.00</td>\n",
              "      <td>...</td>\n",
              "      <td>NaN</td>\n",
              "      <td>NaN</td>\n",
              "      <td>NaN</td>\n",
              "      <td>NaN</td>\n",
              "      <td>NaN</td>\n",
              "      <td>51.0</td>\n",
              "      <td>803.0</td>\n",
              "      <td>Clouds</td>\n",
              "      <td>broken clouds</td>\n",
              "      <td>04n</td>\n",
              "    </tr>\n",
              "    <tr>\n",
              "      <th>3</th>\n",
              "      <td>2018-01-01</td>\n",
              "      <td>2018-01-01 12:45:00.000</td>\n",
              "      <td>12</td>\n",
              "      <td>2018-01-01 13:00:00.000</td>\n",
              "      <td>Crazy Dance</td>\n",
              "      <td>5</td>\n",
              "      <td>1.0</td>\n",
              "      <td>46.0</td>\n",
              "      <td>250.001</td>\n",
              "      <td>250.00</td>\n",
              "      <td>...</td>\n",
              "      <td>NaN</td>\n",
              "      <td>0.92</td>\n",
              "      <td>NaN</td>\n",
              "      <td>NaN</td>\n",
              "      <td>NaN</td>\n",
              "      <td>99.0</td>\n",
              "      <td>500.0</td>\n",
              "      <td>Rain</td>\n",
              "      <td>light rain</td>\n",
              "      <td>10d</td>\n",
              "    </tr>\n",
              "    <tr>\n",
              "      <th>4</th>\n",
              "      <td>2018-01-01</td>\n",
              "      <td>2018-01-01 17:00:00.000</td>\n",
              "      <td>17</td>\n",
              "      <td>2018-01-01 17:15:00.000</td>\n",
              "      <td>Skyway</td>\n",
              "      <td>5</td>\n",
              "      <td>15.0</td>\n",
              "      <td>92.0</td>\n",
              "      <td>211.500</td>\n",
              "      <td>198.25</td>\n",
              "      <td>...</td>\n",
              "      <td>NaN</td>\n",
              "      <td>0.25</td>\n",
              "      <td>NaN</td>\n",
              "      <td>NaN</td>\n",
              "      <td>NaN</td>\n",
              "      <td>100.0</td>\n",
              "      <td>500.0</td>\n",
              "      <td>Rain</td>\n",
              "      <td>light rain</td>\n",
              "      <td>10n</td>\n",
              "    </tr>\n",
              "  </tbody>\n",
              "</table>\n",
              "<p>5 rows × 42 columns</p>\n",
              "</div>"
            ],
            "text/plain": [
              "    WORK_DATE                 DEB_TIME  DEB_TIME_HOUR  \\\n",
              "0  2018-01-01  2018-01-01 21:00:00.000             21   \n",
              "1  2018-01-01  2018-01-01 19:30:00.000             19   \n",
              "2  2018-01-01  2018-01-01 22:30:00.000             22   \n",
              "3  2018-01-01  2018-01-01 12:45:00.000             12   \n",
              "4  2018-01-01  2018-01-01 17:00:00.000             17   \n",
              "\n",
              "                  FIN_TIME ENTITY_DESCRIPTION_SHORT  WAIT_TIME_MAX  NB_UNITS  \\\n",
              "0  2018-01-01 21:15:00.000           Roller Coaster              0       2.0   \n",
              "1  2018-01-01 19:45:00.000              Bumper Cars              5      18.0   \n",
              "2  2018-01-01 22:45:00.000              Rapids Ride              0       1.0   \n",
              "3  2018-01-01 13:00:00.000              Crazy Dance              5       1.0   \n",
              "4  2018-01-01 17:15:00.000                   Skyway              5      15.0   \n",
              "\n",
              "   GUEST_CARRIED  CAPACITY  ADJUST_CAPACITY  ...  wind_gust  rain_1h  rain_3h  \\\n",
              "0            0.0     0.000             0.00  ...        NaN      NaN      NaN   \n",
              "1          148.0   254.749           254.75  ...        NaN      NaN      NaN   \n",
              "2            0.0     0.000             0.00  ...        NaN      NaN      NaN   \n",
              "3           46.0   250.001           250.00  ...        NaN     0.92      NaN   \n",
              "4           92.0   211.500           198.25  ...        NaN     0.25      NaN   \n",
              "\n",
              "   snow_1h  snow_3h clouds_all  weather_id weather_main  weather_description  \\\n",
              "0      NaN      NaN       39.0       802.0       Clouds     scattered clouds   \n",
              "1      NaN      NaN       23.0       801.0       Clouds           few clouds   \n",
              "2      NaN      NaN       51.0       803.0       Clouds        broken clouds   \n",
              "3      NaN      NaN       99.0       500.0         Rain           light rain   \n",
              "4      NaN      NaN      100.0       500.0         Rain           light rain   \n",
              "\n",
              "   weather_icon  \n",
              "0           03n  \n",
              "1           02n  \n",
              "2           04n  \n",
              "3           10d  \n",
              "4           10n  \n",
              "\n",
              "[5 rows x 42 columns]"
            ]
          },
          "execution_count": 4,
          "metadata": {},
          "output_type": "execute_result"
        }
      ],
      "source": [
        "df.head()"
      ]
    },
    {
      "cell_type": "markdown",
      "metadata": {
        "id": "5z_QW7jwW8Mx"
      },
      "source": [
        "## Data Analysis"
      ]
    },
    {
      "cell_type": "code",
      "execution_count": null,
      "metadata": {
        "id": "kl3yvZIQW8My",
        "outputId": "efbcdeb5-dd77-47c5-a613-0222b8bbb033"
      },
      "outputs": [
        {
          "data": {
            "text/plain": [
              "array(['Roller Coaster', 'Bumper Cars', 'Rapids Ride', 'Crazy Dance',\n",
              "       'Skyway', 'Free Fall', 'Monorail', 'Swing Ride', 'Crazy Bus',\n",
              "       'Drop Tower', 'Spinning Coaster', 'Scooby Doo', 'Superman Ride',\n",
              "       'Spiral Slide', 'Inverted Coaster', 'Water Ride', 'Power Tower',\n",
              "       'Top Spin', 'Log Flume', 'Oz Theatre', 'Circus Train',\n",
              "       'Giant Wheel', 'Kiddie Coaster', 'Bungee Jump', 'Zipline',\n",
              "       'Aeroplane Ride', 'Haunted House', 'Reverse Bungee', 'Go-Karts',\n",
              "       'Dizzy Dropper', 'Merry Go Round', 'Flying Coaster', 'Gondola',\n",
              "       'Pirate Ship', 'Giga Coaster', 'Himalaya Ride', 'Sling Shot',\n",
              "       'Vertical Drop', 'Tilt-A-Whirl'], dtype=object)"
            ]
          },
          "execution_count": 5,
          "metadata": {},
          "output_type": "execute_result"
        }
      ],
      "source": [
        "df['ENTITY_DESCRIPTION_SHORT'].unique()"
      ]
    },
    {
      "cell_type": "code",
      "execution_count": 4,
      "metadata": {
        "id": "X2SBDfRkW8My"
      },
      "outputs": [],
      "source": [
        "attractions = ['Roller Coaster', 'Bumper Cars', 'Rapids Ride', 'Crazy Dance',\n",
        "       'Skyway', 'Free Fall', 'Monorail', 'Swing Ride', 'Crazy Bus',\n",
        "       'Drop Tower', 'Spinning Coaster', 'Scooby Doo', 'Superman Ride',\n",
        "       'Spiral Slide', 'Inverted Coaster', 'Water Ride', 'Power Tower',\n",
        "       'Top Spin', 'Log Flume', 'Oz Theatre', 'Circus Train',\n",
        "       'Giant Wheel', 'Kiddie Coaster', 'Bungee Jump', 'Zipline',\n",
        "       'Aeroplane Ride', 'Haunted House', 'Reverse Bungee', 'Go-Karts',\n",
        "       'Dizzy Dropper', 'Merry Go Round', 'Flying Coaster', 'Gondola',\n",
        "       'Pirate Ship', 'Giga Coaster', 'Himalaya Ride', 'Sling Shot',\n",
        "       'Vertical Drop', 'Tilt-A-Whirl']\n",
        "attractions2 = ['Roller Coaster', 'Bumper Cars']"
      ]
    },
    {
      "cell_type": "markdown",
      "metadata": {
        "id": "8VP7CPTiW8Mz"
      },
      "source": [
        "## Data Processing"
      ]
    },
    {
      "cell_type": "code",
      "execution_count": 5,
      "metadata": {
        "id": "UjEsJ9TlW8Mz"
      },
      "outputs": [],
      "source": [
        "# Assuming your dataframe is named df\n",
        "df['WORK_DATE'] = pd.to_datetime(df['WORK_DATE'])\n",
        "df['DEB_TIME'] = pd.to_datetime(df['DEB_TIME'])\n",
        "df['FIN_TIME'] = pd.to_datetime(df['FIN_TIME'])\n",
        "\n",
        "# Sort the dataframe by WORK_DATE to ensure correct lag calculation\n",
        "df.sort_values(by='DEB_TIME', inplace=True)\n",
        "\n",
        "# Adding day of the week as a feature\n",
        "df['day_of_week'] = df['WORK_DATE'].dt.dayofweek"
      ]
    },
    {
      "cell_type": "code",
      "execution_count": 6,
      "metadata": {
        "id": "GK8uwVadW8M0"
      },
      "outputs": [],
      "source": [
        "# Assuming your dataframe is named df\n",
        "df_nocov['WORK_DATE'] = pd.to_datetime(df_nocov['WORK_DATE'])\n",
        "df_nocov['DEB_TIME'] = pd.to_datetime(df_nocov['DEB_TIME'])\n",
        "df_nocov['FIN_TIME'] = pd.to_datetime(df_nocov['FIN_TIME'])\n",
        "\n",
        "# Sort the dataframe by WORK_DATE to ensure correct lag calculation\n",
        "df_nocov.sort_values(by='DEB_TIME', inplace=True)\n",
        "\n",
        "# Adding day of the week as a feature\n",
        "df_nocov['day_of_week'] = df_nocov['WORK_DATE'].dt.dayofweek"
      ]
    },
    {
      "cell_type": "code",
      "execution_count": 7,
      "metadata": {
        "id": "bw2jn1iHW8M0"
      },
      "outputs": [],
      "source": [
        "max_date_nocov = df_nocov['DEB_TIME'].max()\n",
        "\n",
        "df_new = df[df['DEB_TIME'] <= max_date_nocov]\n",
        "\n",
        "columns_to_drop = ['DEB_TIME', 'FIN_TIME', 'city_name', 'dt_iso', 'weather_icon', 'visibility', 'sea_level', 'grnd_level', 'snow_3h']\n",
        "df_new = df_new.drop(columns=columns_to_drop)\n",
        "df_new = pd.get_dummies(df_new, columns=['weather_main', 'weather_description'])\n",
        "\n",
        "columns_to_fill = ['wind_gust', 'rain_1h', 'rain_3h', 'snow_1h']\n",
        "df_new[columns_to_fill] = df_new[columns_to_fill].fillna(0)\n",
        "\n",
        "one_hot_encoded_entity = pd.get_dummies(df_new['ENTITY_DESCRIPTION_SHORT'])\n",
        "one_hot_encoded_entity['WORK_DATE'] = df_new['WORK_DATE']\n",
        "\n",
        "validation_start_date = df_new['WORK_DATE'].max() - timedelta(weeks=2)\n",
        "train_df = df_new[df_new['WORK_DATE'] < validation_start_date]\n",
        "validation_df = df_new[df_new['WORK_DATE'] >= validation_start_date]\n",
        "\n",
        "one_hot_encoded_entity_train = one_hot_encoded_entity[one_hot_encoded_entity['WORK_DATE'] < validation_start_date]\n",
        "one_hot_encoded_entity_test = one_hot_encoded_entity[one_hot_encoded_entity['WORK_DATE'] >= validation_start_date]\n",
        "\n",
        "one_hot_encoded_entity_train = one_hot_encoded_entity_train.drop(columns=['WORK_DATE'])\n",
        "one_hot_encoded_entity_test = one_hot_encoded_entity_test.drop(columns=['WORK_DATE'])\n",
        "\n",
        "train_df = train_df.drop(columns=['WORK_DATE'])\n",
        "validation_df = validation_df.drop(columns=['WORK_DATE'])"
      ]
    },
    {
      "cell_type": "code",
      "source": [
        "columns_to_drop_nocov = ['DEB_TIME', 'FIN_TIME', 'snow_3h', 'START_TIME', 'DEB_TIME_x', 'FIN_TIME_x', 'DEB_TIME_y', 'FIN_TIME_y']\n",
        "\n",
        "df_nocov_new = df_nocov.drop(columns=columns_to_drop_nocov)\n",
        "\n",
        "df_nocov_new[columns_to_fill] = df_nocov_new[columns_to_fill].fillna(0)\n",
        "\n",
        "one_hot_encoded_entity_nocov = pd.get_dummies(df_nocov_new['Attraction'])\n",
        "one_hot_encoded_entity_nocov['WORK_DATE'] = df_nocov_new['WORK_DATE']\n",
        "\n",
        "validation_start_date = df_nocov_new['WORK_DATE'].max() - timedelta(weeks=2)\n",
        "train_df_nocov = df_nocov_new[df_nocov_new['WORK_DATE'] < validation_start_date]\n",
        "validation_df_nocov = df_nocov_new[df_nocov_new['WORK_DATE'] >= validation_start_date]\n",
        "\n",
        "one_hot_encoded_entity_train_nocov = one_hot_encoded_entity_nocov[one_hot_encoded_entity_nocov['WORK_DATE'] < validation_start_date]\n",
        "one_hot_encoded_entity_test_nocov  = one_hot_encoded_entity_nocov[one_hot_encoded_entity_nocov['WORK_DATE'] >= validation_start_date]\n",
        "\n",
        "one_hot_encoded_entity_train_nocov = one_hot_encoded_entity_train_nocov.drop(columns=['WORK_DATE'])\n",
        "one_hot_encoded_entity_test_nocov = one_hot_encoded_entity_test_nocov.drop(columns=['WORK_DATE'])\n",
        "\n",
        "train_df_nocov = train_df_nocov.drop(columns=['WORK_DATE'])\n",
        "validation_df_nocov = validation_df_nocov.drop(columns=['WORK_DATE'])"
      ],
      "metadata": {
        "id": "ru8UVowAPkWC"
      },
      "execution_count": 8,
      "outputs": []
    },
    {
      "cell_type": "markdown",
      "metadata": {
        "id": "BWH0rqBSW8M0"
      },
      "source": [
        "## Data Modelling"
      ]
    },
    {
      "cell_type": "code",
      "source": [
        "import tensorflow as tf\n",
        "\n",
        "if tf.test.gpu_device_name():\n",
        "    print('Default GPU Device: {}'.format(tf.test.gpu_device_name()))\n",
        "else:\n",
        "    print(\"Please select GPU from the Runtime menu.\")"
      ],
      "metadata": {
        "colab": {
          "base_uri": "https://localhost:8080/"
        },
        "id": "ncg0mRLNXcN8",
        "outputId": "31783bce-8458-405b-fd3d-b5a3fbffa94e"
      },
      "execution_count": 9,
      "outputs": [
        {
          "output_type": "stream",
          "name": "stdout",
          "text": [
            "Default GPU Device: /device:GPU:0\n"
          ]
        }
      ]
    },
    {
      "cell_type": "code",
      "source": [
        "import warnings\n",
        "\n",
        "# Suppress all warnings (not recommended)\n",
        "warnings.filterwarnings('ignore')"
      ],
      "metadata": {
        "id": "ZEb0NDMjCIbd"
      },
      "execution_count": 10,
      "outputs": []
    },
    {
      "cell_type": "markdown",
      "metadata": {
        "id": "ZeMtFjbSW8M1"
      },
      "source": [
        "### General Model"
      ]
    },
    {
      "cell_type": "code",
      "execution_count": null,
      "metadata": {
        "id": "CT7RFk5OW8M1",
        "colab": {
          "base_uri": "https://localhost:8080/"
        },
        "outputId": "70420de9-5435-4893-fac1-f9d32bf70ca9"
      },
      "outputs": [
        {
          "output_type": "stream",
          "name": "stdout",
          "text": [
            "RMSE for all rides: 12.685695570324336\n",
            "Mean Average Percentage Error : 3688984163424636.0%\n"
          ]
        }
      ],
      "source": [
        "train_df_mod = pd.concat([train_df, one_hot_encoded_entity_train], axis=1)\n",
        "validation_df_mod = pd.concat([validation_df, one_hot_encoded_entity_test], axis=1)\n",
        "\n",
        "X_train = train_df_mod.drop(columns=['ENTITY_DESCRIPTION_SHORT', 'WAIT_TIME_MAX'])\n",
        "y_train = train_df_mod['WAIT_TIME_MAX']\n",
        "\n",
        "X_test = validation_df_mod.drop(columns=['ENTITY_DESCRIPTION_SHORT', 'WAIT_TIME_MAX'])\n",
        "y_test = validation_df_mod['WAIT_TIME_MAX']\n",
        "\n",
        "model = XGBRegressor(tree_method='hist', device=\"cuda\")\n",
        "model.fit(X_train, y_train)\n",
        "\n",
        "y_pred = model.predict(X_test)\n",
        "\n",
        "# Calculate the Root Mean Squared Error (RMSE)\n",
        "rmse = np.sqrt(mean_squared_error(y_test, y_pred))\n",
        "print(f\"RMSE for all rides: {rmse}\")\n",
        "mape = mean_absolute_percentage_error(y_test, y_pred)\n",
        "print(f\"Mean Average Percentage Error : {mape}%\")"
      ]
    },
    {
      "cell_type": "code",
      "source": [
        "train_df_mod = pd.concat([train_df_nocov, one_hot_encoded_entity_train_nocov], axis=1)\n",
        "validation_df_mod = pd.concat([validation_df_nocov, one_hot_encoded_entity_test_nocov], axis=1)\n",
        "\n",
        "X_train = train_df_mod.drop(columns=['Attraction', 'WAIT_TIME_MAX'])\n",
        "y_train = train_df_mod['WAIT_TIME_MAX']\n",
        "\n",
        "X_test = validation_df_mod.drop(columns=['Attraction', 'WAIT_TIME_MAX'])\n",
        "y_test = validation_df_mod['WAIT_TIME_MAX']\n",
        "\n",
        "model = XGBRegressor(tree_method='hist', device=\"cuda\")\n",
        "model.fit(X_train, y_train)\n",
        "\n",
        "y_pred = model.predict(X_test)\n",
        "\n",
        "# Calculate the Root Mean Squared Error (RMSE)\n",
        "rmse = np.sqrt(mean_squared_error(y_test, y_pred))\n",
        "print(f\"RMSE for all rides: {rmse}\")\n",
        "\n",
        "mape = mean_absolute_percentage_error(y_test, y_pred)\n",
        "print(f\"Mean Average Percentage Error : {mape}%\")"
      ],
      "metadata": {
        "colab": {
          "base_uri": "https://localhost:8080/"
        },
        "id": "UbBkWAVDRTz0",
        "outputId": "ac772c8e-2898-477e-e181-9c3de4bb4b05"
      },
      "execution_count": null,
      "outputs": [
        {
          "output_type": "stream",
          "name": "stdout",
          "text": [
            "RMSE for all rides: 11.543302903932162\n",
            "Mean Average Percentage Error : 3634133140330222.5%\n"
          ]
        }
      ]
    },
    {
      "cell_type": "code",
      "source": [
        "train_df_mod = pd.concat([train_df_nocov, one_hot_encoded_entity_train_nocov], axis=1)\n",
        "validation_df_mod = pd.concat([validation_df_nocov, one_hot_encoded_entity_test_nocov], axis=1)\n",
        "\n",
        "X_train = train_df_mod.drop(columns=['Attraction', 'WAIT_TIME_MAX'])\n",
        "y_train = train_df_mod['WAIT_TIME_MAX']\n",
        "\n",
        "X_test = validation_df_mod.drop(columns=['Attraction', 'WAIT_TIME_MAX'])\n",
        "y_test = validation_df_mod['WAIT_TIME_MAX']\n",
        "\n",
        "param_grid = {\n",
        "    'n_estimators': [100, 200, 300],  # Number of trees in the forest\n",
        "    'max_depth': [3, 6, 12],         # Maximum depth of the trees\n",
        "    'learning_rate': [0.01, 0.1, 0.2] # Step size shrinkage used in update to prevent overfitting\n",
        "}\n",
        "\n",
        "# Initialize the XGBRegressor with fixed parameters\n",
        "model = XGBRegressor(tree_method='hist', device=\"gpu\")  # Use 'gpu' if your setup supports it, else use 'auto'\n",
        "\n",
        "# Setup the grid search with cross-validation\n",
        "grid_search = GridSearchCV(estimator=model, param_grid=param_grid, cv=2, scoring='neg_root_mean_squared_error', verbose=2)\n",
        "\n",
        "# Fit the grid search to the data\n",
        "grid_search.fit(X_train, y_train)\n",
        "\n",
        "# Print the best parameters found\n",
        "print(f\"Best parameters found: {grid_search.best_params_}\")\n",
        "\n",
        "# Use the best model to make predictions\n",
        "best_model = grid_search.best_estimator_\n",
        "y_pred = best_model.predict(X_test)\n",
        "\n",
        "# Calculate and print the RMSE\n",
        "rmse = np.sqrt(mean_squared_error(y_test, y_pred))\n",
        "print(f\"RMSE for all rides: {rmse}\")\n",
        "\n",
        "# Calculate and print the MAPE\n",
        "mape = mean_absolute_percentage_error(y_test, y_pred)\n",
        "print(f\"Mean Average Percentage Error: {mape}%\")"
      ],
      "metadata": {
        "colab": {
          "base_uri": "https://localhost:8080/"
        },
        "id": "ER6EeX3_CB4n",
        "outputId": "3b7e409f-1e52-4294-83ee-df3a1c9f9358"
      },
      "execution_count": 11,
      "outputs": [
        {
          "output_type": "stream",
          "name": "stdout",
          "text": [
            "Fitting 2 folds for each of 27 candidates, totalling 54 fits\n",
            "[CV] END ..learning_rate=0.01, max_depth=3, n_estimators=100; total time=   8.1s\n",
            "[CV] END ..learning_rate=0.01, max_depth=3, n_estimators=100; total time=   8.0s\n",
            "[CV] END ..learning_rate=0.01, max_depth=3, n_estimators=200; total time=   9.9s\n",
            "[CV] END ..learning_rate=0.01, max_depth=3, n_estimators=200; total time=   8.3s\n",
            "[CV] END ..learning_rate=0.01, max_depth=3, n_estimators=300; total time=  10.1s\n",
            "[CV] END ..learning_rate=0.01, max_depth=3, n_estimators=300; total time=  10.5s\n",
            "[CV] END ..learning_rate=0.01, max_depth=6, n_estimators=100; total time=   8.4s\n",
            "[CV] END ..learning_rate=0.01, max_depth=6, n_estimators=100; total time=   7.8s\n",
            "[CV] END ..learning_rate=0.01, max_depth=6, n_estimators=200; total time=  10.4s\n",
            "[CV] END ..learning_rate=0.01, max_depth=6, n_estimators=200; total time=   9.5s\n",
            "[CV] END ..learning_rate=0.01, max_depth=6, n_estimators=300; total time=  11.6s\n",
            "[CV] END ..learning_rate=0.01, max_depth=6, n_estimators=300; total time=  11.3s\n",
            "[CV] END .learning_rate=0.01, max_depth=12, n_estimators=100; total time=  14.5s\n",
            "[CV] END .learning_rate=0.01, max_depth=12, n_estimators=100; total time=  13.8s\n",
            "[CV] END .learning_rate=0.01, max_depth=12, n_estimators=200; total time=  21.0s\n",
            "[CV] END .learning_rate=0.01, max_depth=12, n_estimators=200; total time=  22.2s\n",
            "[CV] END .learning_rate=0.01, max_depth=12, n_estimators=300; total time=  28.8s\n",
            "[CV] END .learning_rate=0.01, max_depth=12, n_estimators=300; total time=  30.0s\n",
            "[CV] END ...learning_rate=0.1, max_depth=3, n_estimators=100; total time=   7.6s\n",
            "[CV] END ...learning_rate=0.1, max_depth=3, n_estimators=100; total time=   8.5s\n",
            "[CV] END ...learning_rate=0.1, max_depth=3, n_estimators=200; total time=   8.0s\n",
            "[CV] END ...learning_rate=0.1, max_depth=3, n_estimators=200; total time=   9.6s\n",
            "[CV] END ...learning_rate=0.1, max_depth=3, n_estimators=300; total time=   9.3s\n",
            "[CV] END ...learning_rate=0.1, max_depth=3, n_estimators=300; total time=  10.2s\n",
            "[CV] END ...learning_rate=0.1, max_depth=6, n_estimators=100; total time=   8.0s\n",
            "[CV] END ...learning_rate=0.1, max_depth=6, n_estimators=100; total time=   9.1s\n",
            "[CV] END ...learning_rate=0.1, max_depth=6, n_estimators=200; total time=  10.0s\n",
            "[CV] END ...learning_rate=0.1, max_depth=6, n_estimators=200; total time=   9.2s\n",
            "[CV] END ...learning_rate=0.1, max_depth=6, n_estimators=300; total time=  11.5s\n",
            "[CV] END ...learning_rate=0.1, max_depth=6, n_estimators=300; total time=  11.8s\n",
            "[CV] END ..learning_rate=0.1, max_depth=12, n_estimators=100; total time=  14.2s\n",
            "[CV] END ..learning_rate=0.1, max_depth=12, n_estimators=100; total time=  14.6s\n",
            "[CV] END ..learning_rate=0.1, max_depth=12, n_estimators=200; total time=  21.0s\n",
            "[CV] END ..learning_rate=0.1, max_depth=12, n_estimators=200; total time=  20.0s\n",
            "[CV] END ..learning_rate=0.1, max_depth=12, n_estimators=300; total time=  26.2s\n",
            "[CV] END ..learning_rate=0.1, max_depth=12, n_estimators=300; total time=  25.9s\n",
            "[CV] END ...learning_rate=0.2, max_depth=3, n_estimators=100; total time=   7.4s\n",
            "[CV] END ...learning_rate=0.2, max_depth=3, n_estimators=100; total time=   8.2s\n",
            "[CV] END ...learning_rate=0.2, max_depth=3, n_estimators=200; total time=   7.9s\n",
            "[CV] END ...learning_rate=0.2, max_depth=3, n_estimators=200; total time=   9.5s\n",
            "[CV] END ...learning_rate=0.2, max_depth=3, n_estimators=300; total time=   9.1s\n",
            "[CV] END ...learning_rate=0.2, max_depth=3, n_estimators=300; total time=  10.0s\n",
            "[CV] END ...learning_rate=0.2, max_depth=6, n_estimators=100; total time=   8.2s\n",
            "[CV] END ...learning_rate=0.2, max_depth=6, n_estimators=100; total time=   8.8s\n",
            "[CV] END ...learning_rate=0.2, max_depth=6, n_estimators=200; total time=   9.4s\n",
            "[CV] END ...learning_rate=0.2, max_depth=6, n_estimators=200; total time=   9.6s\n",
            "[CV] END ...learning_rate=0.2, max_depth=6, n_estimators=300; total time=  11.5s\n",
            "[CV] END ...learning_rate=0.2, max_depth=6, n_estimators=300; total time=  11.3s\n",
            "[CV] END ..learning_rate=0.2, max_depth=12, n_estimators=100; total time=  13.1s\n",
            "[CV] END ..learning_rate=0.2, max_depth=12, n_estimators=100; total time=  13.2s\n",
            "[CV] END ..learning_rate=0.2, max_depth=12, n_estimators=200; total time=  20.6s\n",
            "[CV] END ..learning_rate=0.2, max_depth=12, n_estimators=200; total time=  18.8s\n",
            "[CV] END ..learning_rate=0.2, max_depth=12, n_estimators=300; total time=  24.9s\n",
            "[CV] END ..learning_rate=0.2, max_depth=12, n_estimators=300; total time=  24.2s\n",
            "Best parameters found: {'learning_rate': 0.1, 'max_depth': 6, 'n_estimators': 300}\n",
            "RMSE for all rides: 11.145026542148447\n",
            "Mean Average Percentage Error: 3587281682301115.5%\n"
          ]
        }
      ]
    },
    {
      "cell_type": "code",
      "source": [
        "train_df_mod = pd.concat([train_df_nocov, one_hot_encoded_entity_train_nocov], axis=1)\n",
        "validation_df_mod = pd.concat([validation_df_nocov, one_hot_encoded_entity_test_nocov], axis=1)\n",
        "\n",
        "mse = []\n",
        "error_percentage = []\n",
        "n_obs = []\n",
        "y_true_total = []\n",
        "y_pred_total = []\n",
        "\n",
        "for i in range(7):\n",
        "      train_df_mod_per_dow = train_df_mod[train_df_mod['day_of_week']==i]\n",
        "      validation_df_mod_per_dow = validation_df_mod[validation_df_mod['day_of_week']==i]\n",
        "\n",
        "      X_train = train_df_mod_per_dow.drop(columns=['Attraction', 'WAIT_TIME_MAX'])\n",
        "      y_train = train_df_mod_per_dow['WAIT_TIME_MAX']\n",
        "\n",
        "      X_test = validation_df_mod_per_dow.drop(columns=['Attraction', 'WAIT_TIME_MAX'])\n",
        "      y_test = validation_df_mod_per_dow['WAIT_TIME_MAX']\n",
        "\n",
        "\n",
        "      model = XGBRegressor(tree_method='hist', device=\"cuda\")\n",
        "      model.fit(X_train, y_train)\n",
        "\n",
        "      y_pred = model.predict(X_test)\n",
        "\n",
        "      # Calculate the Root Mean Squared Error (RMSE)\n",
        "      mse.append(mean_squared_error(y_test, y_pred))\n",
        "      n_obs.append(len(y_test))\n",
        "\n",
        "      y_true_total.extend(y_test.tolist())\n",
        "      y_pred_total.extend(y_pred.tolist())\n",
        "\n",
        "# Convert lists to NumPy arrays for calculation\n",
        "mse = np.array(mse)\n",
        "n_obs = np.array(n_obs)\n",
        "\n",
        "# Calculate weighted MSE\n",
        "weighted_mse = np.sum(mse * n_obs) / np.sum(n_obs)\n",
        "\n",
        "# Calculate RMSE for all rides\n",
        "total_rmse = np.sqrt(weighted_mse)\n",
        "\n",
        "# Calculate average error percentage\n",
        "mape = mean_absolute_percentage_error(y_true_total, y_pred_total)\n",
        "\n",
        "print(f\"RMSE for all rides: {total_rmse}\")\n",
        "print(f\"Mean Average Percentage Error : {mape}%\")"
      ],
      "metadata": {
        "colab": {
          "base_uri": "https://localhost:8080/"
        },
        "id": "X3l7dIAbVgZy",
        "outputId": "28f1e04a-3c28-42e2-99eb-b2b08df9280a"
      },
      "execution_count": 12,
      "outputs": [
        {
          "output_type": "stream",
          "name": "stdout",
          "text": [
            "RMSE for all rides: 12.439537989644322\n",
            "Mean Average Percentage Error : 4778540608577874.0%\n"
          ]
        }
      ]
    },
    {
      "cell_type": "markdown",
      "metadata": {
        "id": "OYT-29e0W8M3"
      },
      "source": [
        "### Model for each attraction"
      ]
    },
    {
      "cell_type": "code",
      "execution_count": null,
      "metadata": {
        "colab": {
          "base_uri": "https://localhost:8080/"
        },
        "id": "ilk4R5H3W8M3",
        "outputId": "2d84e06b-fa3b-4622-c50a-94c45abd0efa"
      },
      "outputs": [
        {
          "output_type": "stream",
          "name": "stderr",
          "text": [
            "/usr/local/lib/python3.10/dist-packages/xgboost/core.py:160: UserWarning: [17:11:57] WARNING: /workspace/src/common/error_msg.cc:27: The tree method `gpu_hist` is deprecated since 2.0.0. To use GPU training, set the `device` parameter to CUDA instead.\n",
            "\n",
            "    E.g. tree_method = \"hist\", device = \"cuda\"\n",
            "\n",
            "  warnings.warn(smsg, UserWarning)\n",
            "/usr/local/lib/python3.10/dist-packages/xgboost/core.py:160: UserWarning: [17:11:58] WARNING: /workspace/src/common/error_msg.cc:27: The tree method `gpu_hist` is deprecated since 2.0.0. To use GPU training, set the `device` parameter to CUDA instead.\n",
            "\n",
            "    E.g. tree_method = \"hist\", device = \"cuda\"\n",
            "\n",
            "  warnings.warn(smsg, UserWarning)\n",
            "/usr/local/lib/python3.10/dist-packages/xgboost/core.py:160: UserWarning: [17:11:59] WARNING: /workspace/src/common/error_msg.cc:27: The tree method `gpu_hist` is deprecated since 2.0.0. To use GPU training, set the `device` parameter to CUDA instead.\n",
            "\n",
            "    E.g. tree_method = \"hist\", device = \"cuda\"\n",
            "\n",
            "  warnings.warn(smsg, UserWarning)\n",
            "/usr/local/lib/python3.10/dist-packages/xgboost/core.py:160: UserWarning: [17:12:00] WARNING: /workspace/src/common/error_msg.cc:27: The tree method `gpu_hist` is deprecated since 2.0.0. To use GPU training, set the `device` parameter to CUDA instead.\n",
            "\n",
            "    E.g. tree_method = \"hist\", device = \"cuda\"\n",
            "\n",
            "  warnings.warn(smsg, UserWarning)\n",
            "<ipython-input-14-c9c216f09a2b>:23: RuntimeWarning: divide by zero encountered in scalar divide\n",
            "  error_percentage.append((mean_absolute_error(y_test, y_pred) / np.mean(y_test)) * 100)\n",
            "/usr/local/lib/python3.10/dist-packages/xgboost/core.py:160: UserWarning: [17:12:01] WARNING: /workspace/src/common/error_msg.cc:27: The tree method `gpu_hist` is deprecated since 2.0.0. To use GPU training, set the `device` parameter to CUDA instead.\n",
            "\n",
            "    E.g. tree_method = \"hist\", device = \"cuda\"\n",
            "\n",
            "  warnings.warn(smsg, UserWarning)\n",
            "/usr/local/lib/python3.10/dist-packages/xgboost/core.py:160: UserWarning: [17:12:02] WARNING: /workspace/src/common/error_msg.cc:27: The tree method `gpu_hist` is deprecated since 2.0.0. To use GPU training, set the `device` parameter to CUDA instead.\n",
            "\n",
            "    E.g. tree_method = \"hist\", device = \"cuda\"\n",
            "\n",
            "  warnings.warn(smsg, UserWarning)\n",
            "/usr/local/lib/python3.10/dist-packages/xgboost/core.py:160: UserWarning: [17:12:02] WARNING: /workspace/src/common/error_msg.cc:27: The tree method `gpu_hist` is deprecated since 2.0.0. To use GPU training, set the `device` parameter to CUDA instead.\n",
            "\n",
            "    E.g. tree_method = \"hist\", device = \"cuda\"\n",
            "\n",
            "  warnings.warn(smsg, UserWarning)\n",
            "/usr/local/lib/python3.10/dist-packages/xgboost/core.py:160: UserWarning: [17:12:03] WARNING: /workspace/src/common/error_msg.cc:27: The tree method `gpu_hist` is deprecated since 2.0.0. To use GPU training, set the `device` parameter to CUDA instead.\n",
            "\n",
            "    E.g. tree_method = \"hist\", device = \"cuda\"\n",
            "\n",
            "  warnings.warn(smsg, UserWarning)\n",
            "/usr/local/lib/python3.10/dist-packages/xgboost/core.py:160: UserWarning: [17:12:03] WARNING: /workspace/src/common/error_msg.cc:27: The tree method `gpu_hist` is deprecated since 2.0.0. To use GPU training, set the `device` parameter to CUDA instead.\n",
            "\n",
            "    E.g. tree_method = \"hist\", device = \"cuda\"\n",
            "\n",
            "  warnings.warn(smsg, UserWarning)\n",
            "/usr/local/lib/python3.10/dist-packages/xgboost/core.py:160: UserWarning: [17:12:04] WARNING: /workspace/src/common/error_msg.cc:27: The tree method `gpu_hist` is deprecated since 2.0.0. To use GPU training, set the `device` parameter to CUDA instead.\n",
            "\n",
            "    E.g. tree_method = \"hist\", device = \"cuda\"\n",
            "\n",
            "  warnings.warn(smsg, UserWarning)\n",
            "/usr/local/lib/python3.10/dist-packages/xgboost/core.py:160: UserWarning: [17:12:05] WARNING: /workspace/src/common/error_msg.cc:27: The tree method `gpu_hist` is deprecated since 2.0.0. To use GPU training, set the `device` parameter to CUDA instead.\n",
            "\n",
            "    E.g. tree_method = \"hist\", device = \"cuda\"\n",
            "\n",
            "  warnings.warn(smsg, UserWarning)\n",
            "/usr/local/lib/python3.10/dist-packages/xgboost/core.py:160: UserWarning: [17:12:06] WARNING: /workspace/src/common/error_msg.cc:27: The tree method `gpu_hist` is deprecated since 2.0.0. To use GPU training, set the `device` parameter to CUDA instead.\n",
            "\n",
            "    E.g. tree_method = \"hist\", device = \"cuda\"\n",
            "\n",
            "  warnings.warn(smsg, UserWarning)\n",
            "/usr/local/lib/python3.10/dist-packages/xgboost/core.py:160: UserWarning: [17:12:07] WARNING: /workspace/src/common/error_msg.cc:27: The tree method `gpu_hist` is deprecated since 2.0.0. To use GPU training, set the `device` parameter to CUDA instead.\n",
            "\n",
            "    E.g. tree_method = \"hist\", device = \"cuda\"\n",
            "\n",
            "  warnings.warn(smsg, UserWarning)\n",
            "/usr/local/lib/python3.10/dist-packages/xgboost/core.py:160: UserWarning: [17:12:07] WARNING: /workspace/src/common/error_msg.cc:27: The tree method `gpu_hist` is deprecated since 2.0.0. To use GPU training, set the `device` parameter to CUDA instead.\n",
            "\n",
            "    E.g. tree_method = \"hist\", device = \"cuda\"\n",
            "\n",
            "  warnings.warn(smsg, UserWarning)\n",
            "/usr/local/lib/python3.10/dist-packages/xgboost/core.py:160: UserWarning: [17:12:08] WARNING: /workspace/src/common/error_msg.cc:27: The tree method `gpu_hist` is deprecated since 2.0.0. To use GPU training, set the `device` parameter to CUDA instead.\n",
            "\n",
            "    E.g. tree_method = \"hist\", device = \"cuda\"\n",
            "\n",
            "  warnings.warn(smsg, UserWarning)\n",
            "/usr/local/lib/python3.10/dist-packages/xgboost/core.py:160: UserWarning: [17:12:08] WARNING: /workspace/src/common/error_msg.cc:27: The tree method `gpu_hist` is deprecated since 2.0.0. To use GPU training, set the `device` parameter to CUDA instead.\n",
            "\n",
            "    E.g. tree_method = \"hist\", device = \"cuda\"\n",
            "\n",
            "  warnings.warn(smsg, UserWarning)\n",
            "/usr/local/lib/python3.10/dist-packages/xgboost/core.py:160: UserWarning: [17:12:09] WARNING: /workspace/src/common/error_msg.cc:27: The tree method `gpu_hist` is deprecated since 2.0.0. To use GPU training, set the `device` parameter to CUDA instead.\n",
            "\n",
            "    E.g. tree_method = \"hist\", device = \"cuda\"\n",
            "\n",
            "  warnings.warn(smsg, UserWarning)\n",
            "/usr/local/lib/python3.10/dist-packages/xgboost/core.py:160: UserWarning: [17:12:10] WARNING: /workspace/src/common/error_msg.cc:27: The tree method `gpu_hist` is deprecated since 2.0.0. To use GPU training, set the `device` parameter to CUDA instead.\n",
            "\n",
            "    E.g. tree_method = \"hist\", device = \"cuda\"\n",
            "\n",
            "  warnings.warn(smsg, UserWarning)\n",
            "/usr/local/lib/python3.10/dist-packages/xgboost/core.py:160: UserWarning: [17:12:11] WARNING: /workspace/src/common/error_msg.cc:27: The tree method `gpu_hist` is deprecated since 2.0.0. To use GPU training, set the `device` parameter to CUDA instead.\n",
            "\n",
            "    E.g. tree_method = \"hist\", device = \"cuda\"\n",
            "\n",
            "  warnings.warn(smsg, UserWarning)\n",
            "/usr/local/lib/python3.10/dist-packages/xgboost/core.py:160: UserWarning: [17:12:12] WARNING: /workspace/src/common/error_msg.cc:27: The tree method `gpu_hist` is deprecated since 2.0.0. To use GPU training, set the `device` parameter to CUDA instead.\n",
            "\n",
            "    E.g. tree_method = \"hist\", device = \"cuda\"\n",
            "\n",
            "  warnings.warn(smsg, UserWarning)\n",
            "/usr/local/lib/python3.10/dist-packages/xgboost/core.py:160: UserWarning: [17:12:13] WARNING: /workspace/src/common/error_msg.cc:27: The tree method `gpu_hist` is deprecated since 2.0.0. To use GPU training, set the `device` parameter to CUDA instead.\n",
            "\n",
            "    E.g. tree_method = \"hist\", device = \"cuda\"\n",
            "\n",
            "  warnings.warn(smsg, UserWarning)\n",
            "/usr/local/lib/python3.10/dist-packages/xgboost/core.py:160: UserWarning: [17:12:14] WARNING: /workspace/src/common/error_msg.cc:27: The tree method `gpu_hist` is deprecated since 2.0.0. To use GPU training, set the `device` parameter to CUDA instead.\n",
            "\n",
            "    E.g. tree_method = \"hist\", device = \"cuda\"\n",
            "\n",
            "  warnings.warn(smsg, UserWarning)\n",
            "<ipython-input-14-c9c216f09a2b>:23: RuntimeWarning: divide by zero encountered in scalar divide\n",
            "  error_percentage.append((mean_absolute_error(y_test, y_pred) / np.mean(y_test)) * 100)\n",
            "/usr/local/lib/python3.10/dist-packages/xgboost/core.py:160: UserWarning: [17:12:15] WARNING: /workspace/src/common/error_msg.cc:27: The tree method `gpu_hist` is deprecated since 2.0.0. To use GPU training, set the `device` parameter to CUDA instead.\n",
            "\n",
            "    E.g. tree_method = \"hist\", device = \"cuda\"\n",
            "\n",
            "  warnings.warn(smsg, UserWarning)\n",
            "/usr/local/lib/python3.10/dist-packages/xgboost/core.py:160: UserWarning: [17:12:16] WARNING: /workspace/src/common/error_msg.cc:27: The tree method `gpu_hist` is deprecated since 2.0.0. To use GPU training, set the `device` parameter to CUDA instead.\n",
            "\n",
            "    E.g. tree_method = \"hist\", device = \"cuda\"\n",
            "\n",
            "  warnings.warn(smsg, UserWarning)\n",
            "/usr/local/lib/python3.10/dist-packages/xgboost/core.py:160: UserWarning: [17:12:17] WARNING: /workspace/src/common/error_msg.cc:27: The tree method `gpu_hist` is deprecated since 2.0.0. To use GPU training, set the `device` parameter to CUDA instead.\n",
            "\n",
            "    E.g. tree_method = \"hist\", device = \"cuda\"\n",
            "\n",
            "  warnings.warn(smsg, UserWarning)\n",
            "/usr/local/lib/python3.10/dist-packages/xgboost/core.py:160: UserWarning: [17:12:18] WARNING: /workspace/src/common/error_msg.cc:27: The tree method `gpu_hist` is deprecated since 2.0.0. To use GPU training, set the `device` parameter to CUDA instead.\n",
            "\n",
            "    E.g. tree_method = \"hist\", device = \"cuda\"\n",
            "\n",
            "  warnings.warn(smsg, UserWarning)\n",
            "/usr/local/lib/python3.10/dist-packages/xgboost/core.py:160: UserWarning: [17:12:19] WARNING: /workspace/src/common/error_msg.cc:27: The tree method `gpu_hist` is deprecated since 2.0.0. To use GPU training, set the `device` parameter to CUDA instead.\n",
            "\n",
            "    E.g. tree_method = \"hist\", device = \"cuda\"\n",
            "\n",
            "  warnings.warn(smsg, UserWarning)\n",
            "/usr/local/lib/python3.10/dist-packages/xgboost/core.py:160: UserWarning: [17:12:20] WARNING: /workspace/src/common/error_msg.cc:27: The tree method `gpu_hist` is deprecated since 2.0.0. To use GPU training, set the `device` parameter to CUDA instead.\n",
            "\n",
            "    E.g. tree_method = \"hist\", device = \"cuda\"\n",
            "\n",
            "  warnings.warn(smsg, UserWarning)\n",
            "/usr/local/lib/python3.10/dist-packages/xgboost/core.py:160: UserWarning: [17:12:20] WARNING: /workspace/src/common/error_msg.cc:27: The tree method `gpu_hist` is deprecated since 2.0.0. To use GPU training, set the `device` parameter to CUDA instead.\n",
            "\n",
            "    E.g. tree_method = \"hist\", device = \"cuda\"\n",
            "\n",
            "  warnings.warn(smsg, UserWarning)\n",
            "/usr/local/lib/python3.10/dist-packages/xgboost/core.py:160: UserWarning: [17:12:21] WARNING: /workspace/src/common/error_msg.cc:27: The tree method `gpu_hist` is deprecated since 2.0.0. To use GPU training, set the `device` parameter to CUDA instead.\n",
            "\n",
            "    E.g. tree_method = \"hist\", device = \"cuda\"\n",
            "\n",
            "  warnings.warn(smsg, UserWarning)\n",
            "/usr/local/lib/python3.10/dist-packages/xgboost/core.py:160: UserWarning: [17:12:21] WARNING: /workspace/src/common/error_msg.cc:27: The tree method `gpu_hist` is deprecated since 2.0.0. To use GPU training, set the `device` parameter to CUDA instead.\n",
            "\n",
            "    E.g. tree_method = \"hist\", device = \"cuda\"\n",
            "\n",
            "  warnings.warn(smsg, UserWarning)\n",
            "/usr/local/lib/python3.10/dist-packages/xgboost/core.py:160: UserWarning: [17:12:22] WARNING: /workspace/src/common/error_msg.cc:27: The tree method `gpu_hist` is deprecated since 2.0.0. To use GPU training, set the `device` parameter to CUDA instead.\n",
            "\n",
            "    E.g. tree_method = \"hist\", device = \"cuda\"\n",
            "\n",
            "  warnings.warn(smsg, UserWarning)\n",
            "/usr/local/lib/python3.10/dist-packages/xgboost/core.py:160: UserWarning: [17:12:22] WARNING: /workspace/src/common/error_msg.cc:27: The tree method `gpu_hist` is deprecated since 2.0.0. To use GPU training, set the `device` parameter to CUDA instead.\n",
            "\n",
            "    E.g. tree_method = \"hist\", device = \"cuda\"\n",
            "\n",
            "  warnings.warn(smsg, UserWarning)\n",
            "/usr/local/lib/python3.10/dist-packages/xgboost/core.py:160: UserWarning: [17:12:23] WARNING: /workspace/src/common/error_msg.cc:27: The tree method `gpu_hist` is deprecated since 2.0.0. To use GPU training, set the `device` parameter to CUDA instead.\n",
            "\n",
            "    E.g. tree_method = \"hist\", device = \"cuda\"\n",
            "\n",
            "  warnings.warn(smsg, UserWarning)\n",
            "/usr/local/lib/python3.10/dist-packages/xgboost/core.py:160: UserWarning: [17:12:24] WARNING: /workspace/src/common/error_msg.cc:27: The tree method `gpu_hist` is deprecated since 2.0.0. To use GPU training, set the `device` parameter to CUDA instead.\n",
            "\n",
            "    E.g. tree_method = \"hist\", device = \"cuda\"\n",
            "\n",
            "  warnings.warn(smsg, UserWarning)\n",
            "/usr/local/lib/python3.10/dist-packages/xgboost/core.py:160: UserWarning: [17:12:25] WARNING: /workspace/src/common/error_msg.cc:27: The tree method `gpu_hist` is deprecated since 2.0.0. To use GPU training, set the `device` parameter to CUDA instead.\n",
            "\n",
            "    E.g. tree_method = \"hist\", device = \"cuda\"\n",
            "\n",
            "  warnings.warn(smsg, UserWarning)\n",
            "/usr/local/lib/python3.10/dist-packages/xgboost/core.py:160: UserWarning: [17:12:26] WARNING: /workspace/src/common/error_msg.cc:27: The tree method `gpu_hist` is deprecated since 2.0.0. To use GPU training, set the `device` parameter to CUDA instead.\n",
            "\n",
            "    E.g. tree_method = \"hist\", device = \"cuda\"\n",
            "\n",
            "  warnings.warn(smsg, UserWarning)\n",
            "/usr/local/lib/python3.10/dist-packages/xgboost/core.py:160: UserWarning: [17:12:27] WARNING: /workspace/src/common/error_msg.cc:27: The tree method `gpu_hist` is deprecated since 2.0.0. To use GPU training, set the `device` parameter to CUDA instead.\n",
            "\n",
            "    E.g. tree_method = \"hist\", device = \"cuda\"\n",
            "\n",
            "  warnings.warn(smsg, UserWarning)\n",
            "/usr/local/lib/python3.10/dist-packages/xgboost/core.py:160: UserWarning: [17:12:28] WARNING: /workspace/src/common/error_msg.cc:27: The tree method `gpu_hist` is deprecated since 2.0.0. To use GPU training, set the `device` parameter to CUDA instead.\n",
            "\n",
            "    E.g. tree_method = \"hist\", device = \"cuda\"\n",
            "\n",
            "  warnings.warn(smsg, UserWarning)\n",
            "/usr/local/lib/python3.10/dist-packages/xgboost/core.py:160: UserWarning: [17:12:29] WARNING: /workspace/src/common/error_msg.cc:27: The tree method `gpu_hist` is deprecated since 2.0.0. To use GPU training, set the `device` parameter to CUDA instead.\n",
            "\n",
            "    E.g. tree_method = \"hist\", device = \"cuda\"\n",
            "\n",
            "  warnings.warn(smsg, UserWarning)\n",
            "/usr/local/lib/python3.10/dist-packages/xgboost/core.py:160: UserWarning: [17:12:30] WARNING: /workspace/src/common/error_msg.cc:27: The tree method `gpu_hist` is deprecated since 2.0.0. To use GPU training, set the `device` parameter to CUDA instead.\n",
            "\n",
            "    E.g. tree_method = \"hist\", device = \"cuda\"\n",
            "\n",
            "  warnings.warn(smsg, UserWarning)\n",
            "/usr/local/lib/python3.10/dist-packages/xgboost/core.py:160: UserWarning: [17:12:31] WARNING: /workspace/src/common/error_msg.cc:27: The tree method `gpu_hist` is deprecated since 2.0.0. To use GPU training, set the `device` parameter to CUDA instead.\n",
            "\n",
            "    E.g. tree_method = \"hist\", device = \"cuda\"\n",
            "\n",
            "  warnings.warn(smsg, UserWarning)\n",
            "<ipython-input-14-c9c216f09a2b>:23: RuntimeWarning: divide by zero encountered in scalar divide\n",
            "  error_percentage.append((mean_absolute_error(y_test, y_pred) / np.mean(y_test)) * 100)\n",
            "/usr/local/lib/python3.10/dist-packages/xgboost/core.py:160: UserWarning: [17:12:32] WARNING: /workspace/src/common/error_msg.cc:27: The tree method `gpu_hist` is deprecated since 2.0.0. To use GPU training, set the `device` parameter to CUDA instead.\n",
            "\n",
            "    E.g. tree_method = \"hist\", device = \"cuda\"\n",
            "\n",
            "  warnings.warn(smsg, UserWarning)\n",
            "/usr/local/lib/python3.10/dist-packages/xgboost/core.py:160: UserWarning: [17:12:33] WARNING: /workspace/src/common/error_msg.cc:27: The tree method `gpu_hist` is deprecated since 2.0.0. To use GPU training, set the `device` parameter to CUDA instead.\n",
            "\n",
            "    E.g. tree_method = \"hist\", device = \"cuda\"\n",
            "\n",
            "  warnings.warn(smsg, UserWarning)\n",
            "<ipython-input-14-c9c216f09a2b>:23: RuntimeWarning: divide by zero encountered in scalar divide\n",
            "  error_percentage.append((mean_absolute_error(y_test, y_pred) / np.mean(y_test)) * 100)\n",
            "/usr/local/lib/python3.10/dist-packages/xgboost/core.py:160: UserWarning: [17:12:33] WARNING: /workspace/src/common/error_msg.cc:27: The tree method `gpu_hist` is deprecated since 2.0.0. To use GPU training, set the `device` parameter to CUDA instead.\n",
            "\n",
            "    E.g. tree_method = \"hist\", device = \"cuda\"\n",
            "\n",
            "  warnings.warn(smsg, UserWarning)\n",
            "/usr/local/lib/python3.10/dist-packages/xgboost/core.py:160: UserWarning: [17:12:34] WARNING: /workspace/src/common/error_msg.cc:27: The tree method `gpu_hist` is deprecated since 2.0.0. To use GPU training, set the `device` parameter to CUDA instead.\n",
            "\n",
            "    E.g. tree_method = \"hist\", device = \"cuda\"\n",
            "\n",
            "  warnings.warn(smsg, UserWarning)\n",
            "/usr/local/lib/python3.10/dist-packages/xgboost/core.py:160: UserWarning: [17:12:34] WARNING: /workspace/src/common/error_msg.cc:27: The tree method `gpu_hist` is deprecated since 2.0.0. To use GPU training, set the `device` parameter to CUDA instead.\n",
            "\n",
            "    E.g. tree_method = \"hist\", device = \"cuda\"\n",
            "\n",
            "  warnings.warn(smsg, UserWarning)\n"
          ]
        },
        {
          "output_type": "stream",
          "name": "stdout",
          "text": [
            "RMSE for all rides: 13.105798163164362\n",
            "Average Error Percentage: inf%\n"
          ]
        },
        {
          "output_type": "stream",
          "name": "stderr",
          "text": [
            "/usr/local/lib/python3.10/dist-packages/xgboost/core.py:160: UserWarning: [17:12:34] WARNING: /workspace/src/common/error_msg.cc:27: The tree method `gpu_hist` is deprecated since 2.0.0. To use GPU training, set the `device` parameter to CUDA instead.\n",
            "\n",
            "    E.g. tree_method = \"hist\", device = \"cuda\"\n",
            "\n",
            "  warnings.warn(smsg, UserWarning)\n"
          ]
        }
      ],
      "source": [
        "mse = []\n",
        "error_percentage = []\n",
        "n_obs = []\n",
        "\n",
        "for ride in attractions:\n",
        "    train_df_filtered = train_df[train_df['ENTITY_DESCRIPTION_SHORT'] == ride]\n",
        "    validation_df_filtered = validation_df[validation_df['ENTITY_DESCRIPTION_SHORT'] == ride]\n",
        "\n",
        "    # Ensure 'ENTITY_DESCRIPTION_SHORT' is dropped after filtering to avoid future errors\n",
        "    X_train = train_df_filtered.drop(columns=['ENTITY_DESCRIPTION_SHORT', 'WAIT_TIME_MAX'])\n",
        "    y_train = train_df_filtered['WAIT_TIME_MAX']\n",
        "\n",
        "    X_test = validation_df_filtered.drop(columns=['ENTITY_DESCRIPTION_SHORT', 'WAIT_TIME_MAX'])\n",
        "    y_test = validation_df_filtered['WAIT_TIME_MAX']\n",
        "\n",
        "    model = XGBRegressor(tree_method='gpu_hist', device=\"cuda\")\n",
        "    model.fit(X_train, y_train)\n",
        "\n",
        "    y_pred = model.predict(X_test)\n",
        "\n",
        "    mse.append(mean_squared_error(y_test, y_pred))\n",
        "    n_obs.append(len(y_test))\n",
        "    error_percentage.append((mean_absolute_error(y_test, y_pred) / np.mean(y_test)) * 100)\n",
        "\n",
        "# Convert lists to NumPy arrays for calculation\n",
        "mse = np.array(mse)\n",
        "n_obs = np.array(n_obs)\n",
        "\n",
        "# Calculate weighted MSE\n",
        "weighted_mse = np.sum(mse * n_obs) / np.sum(n_obs)\n",
        "\n",
        "# Calculate RMSE for all rides\n",
        "total_rmse = np.sqrt(weighted_mse)\n",
        "\n",
        "# Calculate average error percentage\n",
        "avg_error_percentage = np.mean(error_percentage)\n",
        "\n",
        "print(f\"RMSE for all rides: {total_rmse}\")\n",
        "print(f\"Average Error Percentage: {avg_error_percentage}%\")"
      ]
    },
    {
      "cell_type": "code",
      "execution_count": null,
      "metadata": {
        "id": "F-K9aidBW8M4"
      },
      "outputs": [],
      "source": []
    }
  ],
  "metadata": {
    "kernelspec": {
      "display_name": "Python 3",
      "name": "python3"
    },
    "language_info": {
      "codemirror_mode": {
        "name": "ipython",
        "version": 3
      },
      "file_extension": ".py",
      "mimetype": "text/x-python",
      "name": "python",
      "nbconvert_exporter": "python",
      "pygments_lexer": "ipython3",
      "version": "3.8.18"
    },
    "colab": {
      "provenance": [],
      "gpuType": "T4"
    },
    "accelerator": "GPU"
  },
  "nbformat": 4,
  "nbformat_minor": 0
}